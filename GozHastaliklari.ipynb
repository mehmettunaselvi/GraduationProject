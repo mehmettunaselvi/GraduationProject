{
 "cells": [
  {
   "attachments": {},
   "cell_type": "markdown",
   "metadata": {},
   "source": [
    "# Giriş\n",
    "Bu projenin amacı: 7 farklı göz hastalıkları hücresinin mikroskobik fotoğraflarının makine öğrenimi yöntemlerini kullanarak işlenip, verilen görsellerin hangi göz hastalığı grubuna ait olduğunu  tahmin eden, yüksek başarımlı bir makine öğrenim modeli oluşturulması hedeflenmektedir.\n"
   ]
  },
  {
   "attachments": {},
   "cell_type": "markdown",
   "metadata": {},
   "source": [
    "# İçindekiler\n",
    "* [Veri Setini Anlamak](#veri-setini-anlamak)\n",
    "* [Veriyi Okumak](#veriyi-okumak)\n",
    "    * [Dosya İşlemleri](#dosya-islemleri)\n",
    "* [Keşifsel Veri Analizi](#veriyi-okumak)\n",
    "    * [İlişkili Verilerin Bulunması (Corelation)](#veriyi-okumak)\n",
    "    * [Aykırı Değer (Outlier) Tespiti ve Yönetimi](#veriyi-okumak)\n",
    "    * [Normalizasyon İşlemleri](#veri-okumak)\n",
    "* [Model Seçimi](#veriyi-okumak)\n",
    "    * [En İyi Parametrelerin Bulunması](#veriyi-okumak)\n",
    "    * --\n",
    "    * --\n",
    "    * --\n",
    "* [Sonuç Değerlendirmesi](#veriyi-okumak)"
   ]
  },
  {
   "attachments": {},
   "cell_type": "markdown",
   "metadata": {},
   "source": [
    "## Veri Setini Anlamak <a class=\"anchor\" id=\"veri-setini-anlamak\"></a>\n",
    "Çalışacağımız veri seti \"Ocular Disease Recognition\" Normal, Cataract, Diabetes, Age related Macular degeneration, Pathological Myopia ve Glaucoma retina görsellerini barındırır. \n",
    ". Sırasıyla retinal türlerin açıklaması aşağıdaki gibidir.\n",
    "- Normal (N) : Herhangi bir anomalite bulundurmayan sağlıklı göz dokusu.\n",
    "- Diabetes (D) : Glukoz seviyesinin aşırı derecede yükselmesiyle (hiperglisemi) sonuçlanan metabolik bir bozukluk sebebiyle körlük yapabilen hastalık.[1]\n",
    "- Glaucoma (G) : Optik sinirde (veya retina da ) hasarla sonuçlanan ve görme kaybına neden olan bir grup göz hastalığıdır.[2]\n",
    "- Cataract (C) :  Doğal göz merceğinin matlaşması ve yüzeyinde oluşan çeşitli lekelenmelerle birlikte saydamlığını yitirmesiyle oluşan bir göz hastalığıdır.[3]\n",
    "- Age related Macular Degeneration (A) : Halk arasında \"sarı nokta hastalığı\" diye bilinen \"yaşa bağlı makula dejenerasyonu\" zamanla ilerleyerek makulayı tamamen hasara uğratabilen dejeneratif bir hastalıktır.[4]\n",
    "- Hypertension (H) : Yüksek kan basıncının retinada yaptığı hasara hipertansif retinopati denir.[5]\n",
    "- Pathological Myopia (M) : Patolojik miyopi, aşırı yüksek miyopik kusurun neden olduğu ve ciddi göz hastalıklarına yol açabilen bir hastalıktır.\n",
    "- Other diseases/abnormalities (O) : Yukarıda olmayan diğer anormallikler ve rahatszılıklar."
   ]
  },
  {
   "attachments": {},
   "cell_type": "markdown",
   "metadata": {},
   "source": [
    "## Veriyi Okumak <a class=\"anchor\" id=\"veriyi-okumak\"></a>"
   ]
  },
  {
   "cell_type": "code",
   "execution_count": 1,
   "metadata": {},
   "outputs": [],
   "source": [
    "import numpy as np \n",
    "import pandas as pd\n",
    "import seaborn as sns\n",
    "import matplotlib.pyplot as plt \n",
    "import warnings \n",
    "import os\n",
    "from PIL import Image"
   ]
  },
  {
   "attachments": {},
   "cell_type": "markdown",
   "metadata": {},
   "source": [
    "### Dosya İşlemleri <a class=\"anchor\" id=\"dosya-islemleri\"></a>"
   ]
  },
  {
   "cell_type": "code",
   "execution_count": 2,
   "metadata": {},
   "outputs": [
    {
     "data": {
      "text/plain": [
       "<bound method NDFrame.head of         ID  Patient Age Patient Sex    Left-Fundus    Right-Fundus  \\\n",
       "0        0           69      Female     0_left.jpg     0_right.jpg   \n",
       "1        1           57        Male     1_left.jpg     1_right.jpg   \n",
       "2        2           42        Male     2_left.jpg     2_right.jpg   \n",
       "3        4           53        Male     4_left.jpg     4_right.jpg   \n",
       "4        5           50      Female     5_left.jpg     5_right.jpg   \n",
       "...    ...          ...         ...            ...             ...   \n",
       "6387  4686           63        Male  4686_left.jpg  4686_right.jpg   \n",
       "6388  4688           42        Male  4688_left.jpg  4688_right.jpg   \n",
       "6389  4689           54        Male  4689_left.jpg  4689_right.jpg   \n",
       "6390  4690           57        Male  4690_left.jpg  4690_right.jpg   \n",
       "6391  4784           58        Male  4784_left.jpg  4784_right.jpg   \n",
       "\n",
       "                               Left-Diagnostic Keywords  \\\n",
       "0                                              cataract   \n",
       "1                                         normal fundus   \n",
       "2     laser spot，moderate non proliferative retinopathy   \n",
       "3                           macular epiretinal membrane   \n",
       "4                moderate non proliferative retinopathy   \n",
       "...                                                 ...   \n",
       "6387                severe nonproliferative retinopathy   \n",
       "6388             moderate non proliferative retinopathy   \n",
       "6389                  mild nonproliferative retinopathy   \n",
       "6390                  mild nonproliferative retinopathy   \n",
       "6391  hypertensive retinopathy，age-related macular d...   \n",
       "\n",
       "                              Right-Diagnostic Keywords  N  D  G  C  A  H  M  \\\n",
       "0                                         normal fundus  0  0  0  1  0  0  0   \n",
       "1                                         normal fundus  1  0  0  0  0  0  0   \n",
       "2                moderate non proliferative retinopathy  0  1  0  0  0  0  0   \n",
       "3                     mild nonproliferative retinopathy  0  1  0  0  0  0  0   \n",
       "4                moderate non proliferative retinopathy  0  1  0  0  0  0  0   \n",
       "...                                                 ... .. .. .. .. .. .. ..   \n",
       "6387                 proliferative diabetic retinopathy  0  1  0  0  0  0  0   \n",
       "6388             moderate non proliferative retinopathy  0  1  0  0  0  0  0   \n",
       "6389                                      normal fundus  0  1  0  0  0  0  0   \n",
       "6390                  mild nonproliferative retinopathy  0  1  0  0  0  0  0   \n",
       "6391  hypertensive retinopathy，age-related macular d...  0  0  0  0  1  1  0   \n",
       "\n",
       "      O                                           filepath labels  \\\n",
       "0     0  ../input/ocular-disease-recognition-odir5k/ODI...  ['N']   \n",
       "1     0  ../input/ocular-disease-recognition-odir5k/ODI...  ['N']   \n",
       "2     1  ../input/ocular-disease-recognition-odir5k/ODI...  ['D']   \n",
       "3     1  ../input/ocular-disease-recognition-odir5k/ODI...  ['D']   \n",
       "4     0  ../input/ocular-disease-recognition-odir5k/ODI...  ['D']   \n",
       "...  ..                                                ...    ...   \n",
       "6387  0  ../input/ocular-disease-recognition-odir5k/ODI...  ['D']   \n",
       "6388  0  ../input/ocular-disease-recognition-odir5k/ODI...  ['D']   \n",
       "6389  0  ../input/ocular-disease-recognition-odir5k/ODI...  ['D']   \n",
       "6390  0  ../input/ocular-disease-recognition-odir5k/ODI...  ['D']   \n",
       "6391  0  ../input/ocular-disease-recognition-odir5k/ODI...  ['H']   \n",
       "\n",
       "                        target       filename  \n",
       "0     [1, 0, 0, 0, 0, 0, 0, 0]    0_right.jpg  \n",
       "1     [1, 0, 0, 0, 0, 0, 0, 0]    1_right.jpg  \n",
       "2     [0, 1, 0, 0, 0, 0, 0, 0]    2_right.jpg  \n",
       "3     [0, 1, 0, 0, 0, 0, 0, 0]    4_right.jpg  \n",
       "4     [0, 1, 0, 0, 0, 0, 0, 0]    5_right.jpg  \n",
       "...                        ...            ...  \n",
       "6387  [0, 1, 0, 0, 0, 0, 0, 0]  4686_left.jpg  \n",
       "6388  [0, 1, 0, 0, 0, 0, 0, 0]  4688_left.jpg  \n",
       "6389  [0, 1, 0, 0, 0, 0, 0, 0]  4689_left.jpg  \n",
       "6390  [0, 1, 0, 0, 0, 0, 0, 0]  4690_left.jpg  \n",
       "6391  [0, 0, 0, 0, 0, 1, 0, 0]  4784_left.jpg  \n",
       "\n",
       "[6392 rows x 19 columns]>"
      ]
     },
     "execution_count": 2,
     "metadata": {},
     "output_type": "execute_result"
    }
   ],
   "source": [
    "df = pd.read_csv(\"full_df.csv\")\n",
    "df.head"
   ]
  },
  {
   "cell_type": "code",
   "execution_count": 3,
   "metadata": {},
   "outputs": [
    {
     "data": {
      "text/plain": [
       "Index(['ID', 'Patient Age', 'Patient Sex', 'Left-Fundus', 'Right-Fundus',\n",
       "       'Left-Diagnostic Keywords', 'Right-Diagnostic Keywords', 'N', 'D', 'G',\n",
       "       'C', 'A', 'H', 'M', 'O', 'filepath', 'labels', 'target', 'filename'],\n",
       "      dtype='object')"
      ]
     },
     "execution_count": 3,
     "metadata": {},
     "output_type": "execute_result"
    }
   ],
   "source": [
    "df.columns"
   ]
  },
  {
   "cell_type": "code",
   "execution_count": 4,
   "metadata": {},
   "outputs": [
    {
     "name": "stdout",
     "output_type": "stream",
     "text": [
      "<class 'pandas.core.frame.DataFrame'>\n",
      "RangeIndex: 6392 entries, 0 to 6391\n",
      "Data columns (total 19 columns):\n",
      " #   Column                     Non-Null Count  Dtype \n",
      "---  ------                     --------------  ----- \n",
      " 0   ID                         6392 non-null   int64 \n",
      " 1   Patient Age                6392 non-null   int64 \n",
      " 2   Patient Sex                6392 non-null   object\n",
      " 3   Left-Fundus                6392 non-null   object\n",
      " 4   Right-Fundus               6392 non-null   object\n",
      " 5   Left-Diagnostic Keywords   6392 non-null   object\n",
      " 6   Right-Diagnostic Keywords  6392 non-null   object\n",
      " 7   N                          6392 non-null   int64 \n",
      " 8   D                          6392 non-null   int64 \n",
      " 9   G                          6392 non-null   int64 \n",
      " 10  C                          6392 non-null   int64 \n",
      " 11  A                          6392 non-null   int64 \n",
      " 12  H                          6392 non-null   int64 \n",
      " 13  M                          6392 non-null   int64 \n",
      " 14  O                          6392 non-null   int64 \n",
      " 15  filepath                   6392 non-null   object\n",
      " 16  labels                     6392 non-null   object\n",
      " 17  target                     6392 non-null   object\n",
      " 18  filename                   6392 non-null   object\n",
      "dtypes: int64(10), object(9)\n",
      "memory usage: 948.9+ KB\n"
     ]
    }
   ],
   "source": [
    "df.info()"
   ]
  },
  {
   "attachments": {},
   "cell_type": "markdown",
   "metadata": {},
   "source": [
    "Veri setimizde null değer olmadığı için missing values methodolojilerini uygulamıza gerek kalmadı."
   ]
  },
  {
   "cell_type": "code",
   "execution_count": 5,
   "metadata": {},
   "outputs": [
    {
     "ename": "AttributeError",
     "evalue": "'AxesSubplot' object has no attribute 'set_ylabels'",
     "output_type": "error",
     "traceback": [
      "\u001b[0;31m---------------------------------------------------------------------------\u001b[0m",
      "\u001b[0;31mAttributeError\u001b[0m                            Traceback (most recent call last)",
      "Cell \u001b[0;32mIn[5], line 8\u001b[0m\n\u001b[1;32m      6\u001b[0m ax1 \u001b[39m=\u001b[39m fig\u001b[39m.\u001b[39madd_subplot(\u001b[39m221\u001b[39m)\n\u001b[1;32m      7\u001b[0m df[\u001b[39m'\u001b[39m\u001b[39mlabels\u001b[39m\u001b[39m'\u001b[39m]\u001b[39m.\u001b[39mvalue_counts()\u001b[39m.\u001b[39mplot(kind\u001b[39m=\u001b[39m\u001b[39m'\u001b[39m\u001b[39mbar\u001b[39m\u001b[39m'\u001b[39m, ax\u001b[39m=\u001b[39max1)\n\u001b[0;32m----> 8\u001b[0m ax1\u001b[39m.\u001b[39;49mset_ylabels(\u001b[39m'\u001b[39m\u001b[39mToplam\u001b[39m\u001b[39m'\u001b[39m)\n\u001b[1;32m      9\u001b[0m ax1\u001b[39m.\u001b[39mset_title(\u001b[39m'\u001b[39m\u001b[39mHastalık Türü\u001b[39m\u001b[39m'\u001b[39m)\n\u001b[1;32m     11\u001b[0m ax2 \u001b[39m=\u001b[39m fig\u001b[39m.\u001b[39madd_subplot(\u001b[39m222\u001b[39m)\n",
      "\u001b[0;31mAttributeError\u001b[0m: 'AxesSubplot' object has no attribute 'set_ylabels'"
     ]
    },
    {
     "data": {
      "image/png": "[encoded data removed]",
      "text/plain": [
       "<Figure size 1500x1000 with 1 Axes>"
      ]
     },
     "metadata": {},
     "output_type": "display_data"
    }
   ],
   "source": [
    "age_groups = pd.cut(df['Patient Age'], [0, 20, 30, 40, 50, 60, 70, 80, 90, 100])\n",
    "age_counts = age_groups.value_counts(sort=False)\n",
    "\n",
    "fig = plt.figure(figsize=(15,10))\n",
    "\n",
    "ax1 = fig.add_subplot(221)\n",
    "df['labels'].value_counts().plot(kind='bar', ax=ax1)\n",
    "ax1.set_ylabels('Toplam')\n",
    "ax1.set_title('Hastalık Türü')\n",
    "\n",
    "ax2 = fig.add_subplot(222)\n",
    "df['Patient Sex'].value_counts().plot(kind='bar', ax=ax2)\n",
    "ax2.set_ylabel('Toplam')\n",
    "ax2.set_title('Hastanın Cinsiyeti')\n",
    "\n",
    "ax3 = fig.add_subplot(223)\n",
    "df.groupby(age_groups)['labels'].value_counts().unstack().plot(kind='bar', ax=ax3)\n",
    "ax3.set_xlabel('Yaş Grupları')\n",
    "ax3.set_ylabel('Toplam')\n",
    "ax3.set_title('Yaş vs Hastalık Türü')\n",
    "\n",
    "plt.show()\n",
    "\n",
    "##TODO: 'AxesSubplot' object has no attribute 'set_ylabels' çozulecek\n"
   ]
  },
  {
   "attachments": {},
   "cell_type": "markdown",
   "metadata": {},
   "source": [
    "Üstteki çizimlerden anlaşılacağı üzere hangi hastalığın ne kadar görüldüğü, yaşa bağlı hastalıkların görülme sıklığını ve cinsiyete göre dağılımlarını rahatça görebiliriz. Aynı zamanda sınıflandırma yapmadan önce verilerin dengeli olması gerekli ki, modelimiz farklı hastalık türünü farklı ağırlıklar vermesin. Örneğin bizim verimizde N (Normal) şeklindme tanımlanan grup veri setinde en fazla olduğu için modelimiz N grubuna daha yüksek ağırlık verecek. Bunu önlemek için scikit-learn kütüphanesinin resample modülüyle örnek sayılarını dengeli hale getirebiliriz."
   ]
  },
  {
   "cell_type": "code",
   "execution_count": 6,
   "metadata": {},
   "outputs": [
    {
     "name": "stdout",
     "output_type": "stream",
     "text": [
      "['N']    2873\n",
      "['D']    1608\n",
      "['O']     708\n",
      "['C']     293\n",
      "['G']     284\n",
      "['A']     266\n",
      "['M']     232\n",
      "['H']     128\n",
      "Name: labels, dtype: int64\n"
     ]
    },
    {
     "ename": "ValueError",
     "evalue": "high <= 0",
     "output_type": "error",
     "traceback": [
      "\u001b[0;31m---------------------------------------------------------------------------\u001b[0m",
      "\u001b[0;31mValueError\u001b[0m                                Traceback (most recent call last)",
      "Cell \u001b[0;32mIn[6], line 15\u001b[0m\n\u001b[1;32m     11\u001b[0m df_7 \u001b[39m=\u001b[39m df[df[\u001b[39m'\u001b[39m\u001b[39mlabels\u001b[39m\u001b[39m'\u001b[39m] \u001b[39m==\u001b[39m \u001b[39m7\u001b[39m]\n\u001b[1;32m     14\u001b[0m n_samples\u001b[39m=\u001b[39m\u001b[39m10\u001b[39m\n\u001b[0;32m---> 15\u001b[0m df_0_balanced \u001b[39m=\u001b[39m resample(df_0, replace\u001b[39m=\u001b[39;49m\u001b[39mTrue\u001b[39;49;00m, n_samples\u001b[39m=\u001b[39;49mn_samples, random_state\u001b[39m=\u001b[39;49m\u001b[39m42\u001b[39;49m) \n\u001b[1;32m     16\u001b[0m df_1_balanced \u001b[39m=\u001b[39m resample(df_1, replace\u001b[39m=\u001b[39m\u001b[39mTrue\u001b[39;00m, n_samples\u001b[39m=\u001b[39mn_samples, random_state\u001b[39m=\u001b[39m\u001b[39m42\u001b[39m) \n\u001b[1;32m     17\u001b[0m df_2_balanced \u001b[39m=\u001b[39m resample(df_2, replace\u001b[39m=\u001b[39m\u001b[39mTrue\u001b[39;00m, n_samples\u001b[39m=\u001b[39mn_samples, random_state\u001b[39m=\u001b[39m\u001b[39m42\u001b[39m)\n",
      "File \u001b[0;32m~/.local/lib/python3.10/site-packages/sklearn/utils/__init__.py:573\u001b[0m, in \u001b[0;36mresample\u001b[0;34m(replace, n_samples, random_state, stratify, *arrays)\u001b[0m\n\u001b[1;32m    571\u001b[0m \u001b[39mif\u001b[39;00m stratify \u001b[39mis\u001b[39;00m \u001b[39mNone\u001b[39;00m:\n\u001b[1;32m    572\u001b[0m     \u001b[39mif\u001b[39;00m replace:\n\u001b[0;32m--> 573\u001b[0m         indices \u001b[39m=\u001b[39m random_state\u001b[39m.\u001b[39;49mrandint(\u001b[39m0\u001b[39;49m, n_samples, size\u001b[39m=\u001b[39;49m(max_n_samples,))\n\u001b[1;32m    574\u001b[0m     \u001b[39melse\u001b[39;00m:\n\u001b[1;32m    575\u001b[0m         indices \u001b[39m=\u001b[39m np\u001b[39m.\u001b[39marange(n_samples)\n",
      "File \u001b[0;32mmtrand.pyx:748\u001b[0m, in \u001b[0;36mnumpy.random.mtrand.RandomState.randint\u001b[0;34m()\u001b[0m\n",
      "File \u001b[0;32m_bounded_integers.pyx:1247\u001b[0m, in \u001b[0;36mnumpy.random._bounded_integers._rand_int64\u001b[0;34m()\u001b[0m\n",
      "\u001b[0;31mValueError\u001b[0m: high <= 0"
     ]
    }
   ],
   "source": [
    "from sklearn.utils import resample\n",
    "print(df['labels'].value_counts())\n",
    "\n",
    "df_0 = df[df['labels'] == 0]\n",
    "df_1 = df[df['labels'] == 1]\n",
    "df_2 = df[df['labels'] == 2]\n",
    "df_3 = df[df['labels'] == 3]\n",
    "df_4 = df[df['labels'] == 4]\n",
    "df_5 = df[df['labels'] == 5]\n",
    "df_6 = df[df['labels'] == 6]\n",
    "df_7 = df[df['labels'] == 7]\n",
    "\n",
    "\n",
    "n_samples=10\n",
    "df_0_balanced = resample(df_0, replace=True, n_samples=n_samples, random_state=42) \n",
    "df_1_balanced = resample(df_1, replace=True, n_samples=n_samples, random_state=42) \n",
    "df_2_balanced = resample(df_2, replace=True, n_samples=n_samples, random_state=42)\n",
    "df_3_balanced = resample(df_3, replace=True, n_samples=n_samples, random_state=42)\n",
    "df_4_balanced = resample(df_4, replace=True, n_samples=n_samples, random_state=42)\n",
    "df_5_balanced = resample(df_5, replace=True, n_samples=n_samples, random_state=42)\n",
    "df_6_balanced = resample(df_6, replace=True, n_samples=n_samples, random_state=42)\n",
    "df_7_balanced = resample(df_7, replace=True, n_samples=n_samples, random_state=42)\n",
    "\n",
    "\n",
    "df_balanced = pd.concat([df_0_balanced, df_1_balanced, \n",
    "                              df_2_balanced, df_3_balanced, \n",
    "                              df_4_balanced, df_5_balanced, df_6_balanced, df_7_balanced])\n",
    "\n",
    "\n",
    "print(df_balanced['labels'].value_counts())\n",
    "df_balanced\n",
    "\n",
    "##TODO: Verileri resample edilecek. Başka metodlarda kullanılabilir.\n"
   ]
  },
  {
   "attachments": {},
   "cell_type": "markdown",
   "metadata": {},
   "source": [
    "Kategorik verileri target içerisinde tüm hastalık türleri için one hot encoding işlemi veri seti içinde tanımlı. Veri setine göre Hastalık türlerinin sayısı dengesiz olarak dağılmış.\n",
    "- Görsel verilerin aynı şekilde formatlandırılması (boyut, renk olabilir olmayadabililir vb.)\n",
    "- TODO: Hue plot çizimi (standaritzasyon işlemin önce ve sonra )\n",
    "- TODO: Verilerin bias dağılımları düzenlenecek şekilde resample edilecek.\n",
    "- TODO: Veri standartizasyon işlemleri.\n",
    "- TODO: Outlier ve Skewness Kontrolü.\n"
   ]
  },
  {
   "attachments": {},
   "cell_type": "markdown",
   "metadata": {},
   "source": [
    "# Kaynakça\n",
    " TODO: Kaynakça kısmı örnek bitirme tezlerine bakılarak tekrar düzenlenecek.\n",
    "- [1]-https://tr.wikipedia.org/wiki/Diyabet\n",
    "- [2]-https://en.wikipedia.org/wiki/Glaucoma\n",
    "- [3]-https://venividigoz.com/katarakt-nedir-belirtileri-nelerdir\n",
    "- [4]-https://www.istanbulretina.com/yasa-bagli-makula-dejenerasyonu-riski.php#:~:text=Halk%20aras%C4%B1nda%20%22sar%C4%B1%20nokta%20hastal%C4%B1%C4%9F%C4%B1,alan%C4%B1n%C4%B1n%20ortas%C4%B1nda%20karama%20ortaya%20%C3%A7%C4%B1kar.\n",
    "- [5]-https://www.istanbulretina.com/hipertansif-retinopati-hastalik-belirtisi-tedavisi.php\n",
    "\n"
   ]
  },
  {
   "attachments": {},
   "cell_type": "markdown",
   "metadata": {},
   "source": [
    "Yazım Kuralları:\n",
    "- Ana başlıklar tek diez (#)\n",
    "- Alt başlıklar iki diez(##)\n",
    "- Alt başlığın alt başlıklarıan üç diez (###)\n",
    "- Table of content için a class anchor id ler ise küçük ve boşluklar tireli olarak adlandırılacakarv Veri Seti başlığı idsi id=veri-seti gibi."
   ]
  }
 ],
 "metadata": {
  "kernelspec": {
   "display_name": "tf",
   "language": "python",
   "name": "python3"
  },
  "language_info": {
   "codemirror_mode": {
    "name": "ipython",
    "version": 3
   },
   "file_extension": ".py",
   "mimetype": "text/x-python",
   "name": "python",
   "nbconvert_exporter": "python",
   "pygments_lexer": "ipython3",
   "version": "3.10.8"
  },
  "orig_nbformat": 4,
  "vscode": {
   "interpreter": {
    "hash": "3e9be5d5c7735e7e153b5d395b28a8cd26fab99e4edb1f1e96df8fd36412ccee"
   }
  }
 },
 "nbformat": 4,
 "nbformat_minor": 2
}
