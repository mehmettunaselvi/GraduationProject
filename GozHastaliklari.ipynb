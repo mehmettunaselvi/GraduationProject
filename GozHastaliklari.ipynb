{
 "cells": [
  {
   "attachments": {},
   "cell_type": "markdown",
   "metadata": {},
   "source": [
    "# Giriş\n",
    "Bu projenin amacı: 7 farklı göz hastalıkları hücresinin mikroskobik fotoğraflarının makine öğrenimi yöntemlerini kullanarak işlenip, verilen görsellerin hangi göz hastalığı grubuna ait olduğunu  tahmin eden, yüksek başarımlı bir makine öğrenim modeli oluşturulması hedeflenmektedir.\n"
   ]
  },
  {
   "attachments": {},
   "cell_type": "markdown",
   "metadata": {},
   "source": [
    "# İçindekiler\n",
    "* [Veri Setini Anlamak](#veri-setini-anlamak)\n",
    "* [Veriyi Okumak](#veriyi-okumak)\n",
    "    * [Dosya İşlemleri](#dosya-islemleri)\n"
   ]
  },
  {
   "attachments": {},
   "cell_type": "markdown",
   "metadata": {},
   "source": [
    "## Veri Setini Anlamak <a class=\"anchor\" id=\"veri-setini-anlamak\"></a>\n",
    "Çalışacağımız veri seti \"Ocular Disease Recognition\" Normal, Cataract, Diabetes, Age related Macular degeneration, Pathological Myopia ve Glaucoma retina görsellerini barındırır. \n",
    ". Sırasıyla retinal türlerin açıklaması aşağıdaki gibidir.\n",
    "- Normal (N) : Herhangi bir anomalite bulundurmayan sağlıklı göz dokusu.\n",
    "- Diabetes (D) : Glukoz seviyesinin aşırı derecede yükselmesiyle (hiperglisemi) sonuçlanan metabolik bir bozukluk sebebiyle körlük yapabilen hastalık.[1]\n",
    "- Glaucoma (G) : Optik sinirde (veya retina da ) hasarla sonuçlanan ve görme kaybına neden olan bir grup göz hastalığıdır.[2]\n",
    "- Cataract (C) :  Doğal göz merceğinin matlaşması ve yüzeyinde oluşan çeşitli lekelenmelerle birlikte saydamlığını yitirmesiyle oluşan bir göz hastalığıdır.[3]\n",
    "- Age related Macular Degeneration (A) : Halk arasında \"sarı nokta hastalığı\" diye bilinen \"yaşa bağlı makula dejenerasyonu\" zamanla ilerleyerek makulayı tamamen hasara uğratabilen dejeneratif bir hastalıktır.[4]\n",
    "- Hypertension (H) : Yüksek kan basıncının retinada yaptığı hasara hipertansif retinopati denir.[5]\n",
    "- Pathological Myopia (M) : Patolojik miyopi, aşırı yüksek miyopik kusurun neden olduğu ve ciddi göz hastalıklarına yol açabilen bir hastalıktır.\n",
    "- Other diseases/abnormalities (O) : Yukarıda olmayan diğer anormallikler ve rahatszılıklar.\n",
    "TODO: Bu göz hastalıklarına ait görseller eklenecek."
   ]
  },
  {
   "attachments": {},
   "cell_type": "markdown",
   "metadata": {},
   "source": [
    "## Veriyi Okumak <a class=\"anchor\" id=\"veriyi-okumak\"></a>"
   ]
  },
  {
   "cell_type": "code",
   "execution_count": 4,
   "metadata": {},
   "outputs": [],
   "source": [
    "import numpy as np \n",
    "import pandas as pd\n",
    "import seaborn as sns\n",
    "import matplotlib.pyplot as plt \n",
    "import warnings \n",
    "import os\n",
    "from PIL import Image"
   ]
  },
  {
   "attachments": {},
   "cell_type": "markdown",
   "metadata": {},
   "source": [
    "### Dosya İşlemleri <a class=\"anchor\" id=\"dosya-islemleri\"></a>"
   ]
  },
  {
   "cell_type": "code",
   "execution_count": 18,
   "metadata": {},
   "outputs": [
    {
     "data": {
      "text/plain": [
       "<bound method NDFrame.head of         ID  Patient Age Patient Sex    Left-Fundus    Right-Fundus  \\\n",
       "0        0           69      Female     0_left.jpg     0_right.jpg   \n",
       "1        1           57        Male     1_left.jpg     1_right.jpg   \n",
       "2        2           42        Male     2_left.jpg     2_right.jpg   \n",
       "3        4           53        Male     4_left.jpg     4_right.jpg   \n",
       "4        5           50      Female     5_left.jpg     5_right.jpg   \n",
       "...    ...          ...         ...            ...             ...   \n",
       "6387  4686           63        Male  4686_left.jpg  4686_right.jpg   \n",
       "6388  4688           42        Male  4688_left.jpg  4688_right.jpg   \n",
       "6389  4689           54        Male  4689_left.jpg  4689_right.jpg   \n",
       "6390  4690           57        Male  4690_left.jpg  4690_right.jpg   \n",
       "6391  4784           58        Male  4784_left.jpg  4784_right.jpg   \n",
       "\n",
       "                               Left-Diagnostic Keywords  \\\n",
       "0                                              cataract   \n",
       "1                                         normal fundus   \n",
       "2     laser spot，moderate non proliferative retinopathy   \n",
       "3                           macular epiretinal membrane   \n",
       "4                moderate non proliferative retinopathy   \n",
       "...                                                 ...   \n",
       "6387                severe nonproliferative retinopathy   \n",
       "6388             moderate non proliferative retinopathy   \n",
       "6389                  mild nonproliferative retinopathy   \n",
       "6390                  mild nonproliferative retinopathy   \n",
       "6391  hypertensive retinopathy，age-related macular d...   \n",
       "\n",
       "                              Right-Diagnostic Keywords  N  D  G  C  A  H  M  \\\n",
       "0                                         normal fundus  0  0  0  1  0  0  0   \n",
       "1                                         normal fundus  1  0  0  0  0  0  0   \n",
       "2                moderate non proliferative retinopathy  0  1  0  0  0  0  0   \n",
       "3                     mild nonproliferative retinopathy  0  1  0  0  0  0  0   \n",
       "4                moderate non proliferative retinopathy  0  1  0  0  0  0  0   \n",
       "...                                                 ... .. .. .. .. .. .. ..   \n",
       "6387                 proliferative diabetic retinopathy  0  1  0  0  0  0  0   \n",
       "6388             moderate non proliferative retinopathy  0  1  0  0  0  0  0   \n",
       "6389                                      normal fundus  0  1  0  0  0  0  0   \n",
       "6390                  mild nonproliferative retinopathy  0  1  0  0  0  0  0   \n",
       "6391  hypertensive retinopathy，age-related macular d...  0  0  0  0  1  1  0   \n",
       "\n",
       "      O                                           filepath labels  \\\n",
       "0     0  ../input/ocular-disease-recognition-odir5k/ODI...  ['N']   \n",
       "1     0  ../input/ocular-disease-recognition-odir5k/ODI...  ['N']   \n",
       "2     1  ../input/ocular-disease-recognition-odir5k/ODI...  ['D']   \n",
       "3     1  ../input/ocular-disease-recognition-odir5k/ODI...  ['D']   \n",
       "4     0  ../input/ocular-disease-recognition-odir5k/ODI...  ['D']   \n",
       "...  ..                                                ...    ...   \n",
       "6387  0  ../input/ocular-disease-recognition-odir5k/ODI...  ['D']   \n",
       "6388  0  ../input/ocular-disease-recognition-odir5k/ODI...  ['D']   \n",
       "6389  0  ../input/ocular-disease-recognition-odir5k/ODI...  ['D']   \n",
       "6390  0  ../input/ocular-disease-recognition-odir5k/ODI...  ['D']   \n",
       "6391  0  ../input/ocular-disease-recognition-odir5k/ODI...  ['H']   \n",
       "\n",
       "                        target       filename  \n",
       "0     [1, 0, 0, 0, 0, 0, 0, 0]    0_right.jpg  \n",
       "1     [1, 0, 0, 0, 0, 0, 0, 0]    1_right.jpg  \n",
       "2     [0, 1, 0, 0, 0, 0, 0, 0]    2_right.jpg  \n",
       "3     [0, 1, 0, 0, 0, 0, 0, 0]    4_right.jpg  \n",
       "4     [0, 1, 0, 0, 0, 0, 0, 0]    5_right.jpg  \n",
       "...                        ...            ...  \n",
       "6387  [0, 1, 0, 0, 0, 0, 0, 0]  4686_left.jpg  \n",
       "6388  [0, 1, 0, 0, 0, 0, 0, 0]  4688_left.jpg  \n",
       "6389  [0, 1, 0, 0, 0, 0, 0, 0]  4689_left.jpg  \n",
       "6390  [0, 1, 0, 0, 0, 0, 0, 0]  4690_left.jpg  \n",
       "6391  [0, 0, 0, 0, 0, 1, 0, 0]  4784_left.jpg  \n",
       "\n",
       "[6392 rows x 19 columns]>"
      ]
     },
     "execution_count": 18,
     "metadata": {},
     "output_type": "execute_result"
    }
   ],
   "source": [
    "#TODO: Dosyaları oku görselleştir alttaki kaynaktan faydalanabilirsin.\n",
    "data = pd.read_csv(\"full_df.csv\")\n",
    "data.head"
   ]
  },
  {
   "cell_type": "code",
   "execution_count": 21,
   "metadata": {},
   "outputs": [
    {
     "data": {
      "text/plain": [
       "Index(['ID', 'Patient Age', 'Patient Sex', 'Left-Fundus', 'Right-Fundus',\n",
       "       'Left-Diagnostic Keywords', 'Right-Diagnostic Keywords', 'N', 'D', 'G',\n",
       "       'C', 'A', 'H', 'M', 'O', 'filepath', 'labels', 'target', 'filename'],\n",
       "      dtype='object')"
      ]
     },
     "execution_count": 21,
     "metadata": {},
     "output_type": "execute_result"
    }
   ],
   "source": [
    "data.columns"
   ]
  },
  {
   "cell_type": "code",
   "execution_count": 25,
   "metadata": {},
   "outputs": [
    {
     "name": "stdout",
     "output_type": "stream",
     "text": [
      "<class 'pandas.core.frame.DataFrame'>\n",
      "RangeIndex: 6392 entries, 0 to 6391\n",
      "Data columns (total 19 columns):\n",
      " #   Column                     Non-Null Count  Dtype \n",
      "---  ------                     --------------  ----- \n",
      " 0   ID                         6392 non-null   int64 \n",
      " 1   Patient Age                6392 non-null   int64 \n",
      " 2   Patient Sex                6392 non-null   object\n",
      " 3   Left-Fundus                6392 non-null   object\n",
      " 4   Right-Fundus               6392 non-null   object\n",
      " 5   Left-Diagnostic Keywords   6392 non-null   object\n",
      " 6   Right-Diagnostic Keywords  6392 non-null   object\n",
      " 7   N                          6392 non-null   int64 \n",
      " 8   D                          6392 non-null   int64 \n",
      " 9   G                          6392 non-null   int64 \n",
      " 10  C                          6392 non-null   int64 \n",
      " 11  A                          6392 non-null   int64 \n",
      " 12  H                          6392 non-null   int64 \n",
      " 13  M                          6392 non-null   int64 \n",
      " 14  O                          6392 non-null   int64 \n",
      " 15  filepath                   6392 non-null   object\n",
      " 16  labels                     6392 non-null   object\n",
      " 17  target                     6392 non-null   object\n",
      " 18  filename                   6392 non-null   object\n",
      "dtypes: int64(10), object(9)\n",
      "memory usage: 948.9+ KB\n"
     ]
    }
   ],
   "source": [
    "data.info()"
   ]
  },
  {
   "attachments": {},
   "cell_type": "markdown",
   "metadata": {},
   "source": [
    "Veri setimizde null değer olmadığı için missing values methodolojilerini uygulamıza gerek kalmadı."
   ]
  },
  {
   "cell_type": "code",
   "execution_count": 35,
   "metadata": {},
   "outputs": [
    {
     "name": "stdout",
     "output_type": "stream",
     "text": [
      "[1, 0, 0, 0, 0, 0, 0, 0]    2873\n",
      "[0, 1, 0, 0, 0, 0, 0, 0]    1608\n",
      "[0, 0, 0, 0, 0, 0, 0, 1]     708\n",
      "[0, 0, 0, 1, 0, 0, 0, 0]     293\n",
      "[0, 0, 1, 0, 0, 0, 0, 0]     284\n",
      "[0, 0, 0, 0, 1, 0, 0, 0]     266\n",
      "[0, 0, 0, 0, 0, 0, 1, 0]     232\n",
      "[0, 0, 0, 0, 0, 1, 0, 0]     128\n",
      "Name: target, dtype: int64\n"
     ]
    },
    {
     "data": {
      "image/png": "[encoded data removed]",
      "text/plain": [
       "<Figure size 640x480 with 1 Axes>"
      ]
     },
     "metadata": {},
     "output_type": "display_data"
    }
   ],
   "source": [
    "sns.countplot(x=\"labels\", data = data)\n",
    "print(data.target.value_counts())\n"
   ]
  },
  {
   "attachments": {},
   "cell_type": "markdown",
   "metadata": {},
   "source": [
    "Kategorik verileri target içerisinde tüm hastalık türleri için one hot encoding işlemi veri seti içinde tanımlı. Veri setine göre Hastalık türlerinin sayısı dengesiz olarak dağılmış.\n",
    "- Görsel verilerin aynı şekilde formatlandırılması (boyut, renk olabilir olmayadabililir vb.)\n",
    "- TODO: Hue plot çizimi (standaritzasyon işlemin önce ve sonra )\n",
    "- TODO: Verilerin bias dağılımları düzenlenecek şekilde resample edilecek.\n",
    "- TODO: Veri standartizasyon işlemleri.\n",
    "- TODO: Outlier ve Skewness Kontrolü.\n"
   ]
  },
  {
   "attachments": {},
   "cell_type": "markdown",
   "metadata": {},
   "source": [
    "# Kaynakça\n",
    " TODO: Kaynakça kısmı örnek bitirme tezlerine bakılarak tekrar düzenlenecek.\n",
    "- [1]-https://tr.wikipedia.org/wiki/Diyabet\n",
    "- [2]-https://en.wikipedia.org/wiki/Glaucoma\n",
    "- [3]-https://venividigoz.com/katarakt-nedir-belirtileri-nelerdir\n",
    "- [4]-https://www.istanbulretina.com/yasa-bagli-makula-dejenerasyonu-riski.php#:~:text=Halk%20aras%C4%B1nda%20%22sar%C4%B1%20nokta%20hastal%C4%B1%C4%9F%C4%B1,alan%C4%B1n%C4%B1n%20ortas%C4%B1nda%20karama%20ortaya%20%C3%A7%C4%B1kar.\n",
    "- [5]-https://www.istanbulretina.com/hipertansif-retinopati-hastalik-belirtisi-tedavisi.php\n",
    "\n"
   ]
  },
  {
   "attachments": {},
   "cell_type": "markdown",
   "metadata": {},
   "source": [
    "Yazım Kuralları:\n",
    "- Ana başlıklar tek diez (#)\n",
    "- Alt başlıklar iki diez(##)\n",
    "- Alt başlığın alt başlıklarıan üç diez (###)\n",
    "- Table of content için a class anchor id ler ise küçük ve boşluklar tireli olarak adlandırılacakarv Veri Seti başlığı idsi id=veri-seti gibi."
   ]
  }
 ],
 "metadata": {
  "kernelspec": {
   "display_name": "tf",
   "language": "python",
   "name": "python3"
  },
  "language_info": {
   "codemirror_mode": {
    "name": "ipython",
    "version": 3
   },
   "file_extension": ".py",
   "mimetype": "text/x-python",
   "name": "python",
   "nbconvert_exporter": "python",
   "pygments_lexer": "ipython3",
   "version": "3.10.10"
  },
  "orig_nbformat": 4,
  "vscode": {
   "interpreter": {
    "hash": "3e9be5d5c7735e7e153b5d395b28a8cd26fab99e4edb1f1e96df8fd36412ccee"
   }
  }
 },
 "nbformat": 4,
 "nbformat_minor": 2
}
